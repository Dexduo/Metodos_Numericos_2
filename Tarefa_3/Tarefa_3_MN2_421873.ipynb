{
  "nbformat": 4,
  "nbformat_minor": 0,
  "metadata": {
    "colab": {
      "provenance": [],
      "authorship_tag": "ABX9TyPjl2NaRpvqhNgRAHJ5W06U",
      "include_colab_link": true
    },
    "kernelspec": {
      "name": "python3",
      "display_name": "Python 3"
    },
    "language_info": {
      "name": "python"
    }
  },
  "cells": [
    {
      "cell_type": "markdown",
      "metadata": {
        "id": "view-in-github",
        "colab_type": "text"
      },
      "source": [
        "<a href=\"https://colab.research.google.com/github/Dexduo/Metodos_Numericos_2/blob/main/Tarefa_3/Tarefa_3_MN2_421873.ipynb\" target=\"_parent\"><img src=\"https://colab.research.google.com/assets/colab-badge.svg\" alt=\"Open In Colab\"/></a>"
      ]
    },
    {
      "cell_type": "markdown",
      "source": [
        "### **Tarefa 3 - Métodos Numéricos 2 - Matrícula 421873**\n",
        "\n",
        "Implementar as fórmulas de Newton Cotes dos tipos aberto e fechado (do grau 1 ao 4 para cada)"
      ],
      "metadata": {
        "id": "cb5SG2sfNkmF"
      }
    },
    {
      "cell_type": "markdown",
      "source": [],
      "metadata": {
        "id": "IjhVUExXOIxU"
      }
    },
    {
      "cell_type": "code",
      "source": [
        "import math"
      ],
      "metadata": {
        "id": "pdER2nQ_bDGI"
      },
      "execution_count": null,
      "outputs": []
    },
    {
      "cell_type": "code",
      "execution_count": null,
      "metadata": {
        "id": "AurD7AsVIBre"
      },
      "outputs": [],
      "source": [
        "#exemplo f(x) = (sen(2x) + 4x² + 3x)²\n",
        "def function1(x):\n",
        "    return (math.sin(2*x) + (4*(x**2)) + (3*x))**2"
      ]
    },
    {
      "cell_type": "code",
      "source": [],
      "metadata": {
        "id": "0x18xfzmbHDL"
      },
      "execution_count": null,
      "outputs": []
    },
    {
      "cell_type": "markdown",
      "source": [
        "### **Implementação de Newton Cotes Fechado**"
      ],
      "metadata": {
        "id": "yfFzEyVKbJu6"
      }
    },
    {
      "cell_type": "code",
      "source": [
        "#newton-cotes close degree 1\n",
        "def newtoncotes_close_d1(function, xi, xf):\n",
        "  h = (xf-xi)\n",
        "  value = (h/2)*( function(xi) + function(xi+h) )\n",
        "  return value"
      ],
      "metadata": {
        "id": "YMPGzyLdWdtB"
      },
      "execution_count": null,
      "outputs": []
    },
    {
      "cell_type": "code",
      "source": [
        "#newton-cotes close degree 2\n",
        "def newtoncotes_close_d2(function, xi, xf):\n",
        "  h = (xf-xi)/2\n",
        "  value = (h/3)*( function(xi) + (4*function(xi+h)) + function(xf) )\n",
        "  return value"
      ],
      "metadata": {
        "id": "aL9giIreX4hi"
      },
      "execution_count": null,
      "outputs": []
    },
    {
      "cell_type": "code",
      "source": [
        "#newton-cotes close degree 3\n",
        "def newtoncotes_close_d3(function, xi, xf):\n",
        "  h = (xf-xi)/3\n",
        "  value = (3*h/8)*( function(xi) + (3*function(xi+h)) + (3*function(xi+(2*h))) + function(xf) )\n",
        "  return value"
      ],
      "metadata": {
        "id": "5hYvxvoFYbgC"
      },
      "execution_count": null,
      "outputs": []
    },
    {
      "cell_type": "code",
      "source": [
        "#newton-cotes close degree 4\n",
        "def newtoncotes_close_d4(function, xi, xf):\n",
        "  h = (xf-xi)/4\n",
        "  value = (2*h/45)*( (7*function(xi)) + (32*function(xi+h)) + (12*function(xi+(2*h))) + (32*function(xi+(3*h))) + (7*function(xf)) )\n",
        "  return value"
      ],
      "metadata": {
        "id": "xxFe5cbJZFnh"
      },
      "execution_count": null,
      "outputs": []
    },
    {
      "cell_type": "markdown",
      "source": [
        "### **Implementação de Newton Cotes Aberto**"
      ],
      "metadata": {
        "id": "iQyeVvZRbMQy"
      }
    },
    {
      "cell_type": "code",
      "source": [
        "#newton-cotes open degree 1\n",
        "def newtoncotes_open_d1(function, xi, xf):\n",
        "  h = (xf-xi)/3\n",
        "  value = (3*h/2)*( function(xi+h) + function(xi+(2*h)) )\n",
        "  return value"
      ],
      "metadata": {
        "id": "XlXKYX6FVOqZ"
      },
      "execution_count": null,
      "outputs": []
    },
    {
      "cell_type": "code",
      "source": [
        "#newton-cotes open degree 2\n",
        "def newtoncotes_open_d2(function, xi, xf):\n",
        "  h = (xf-xi)/4\n",
        "  value = (4*h/3)*((2*function(xi+h)) - function(xi+(2*h)) + (2*function(xi+(3*h))) )\n",
        "  return value"
      ],
      "metadata": {
        "id": "FcH2ycscLwJX"
      },
      "execution_count": null,
      "outputs": []
    },
    {
      "cell_type": "code",
      "source": [
        "#newton-cotes open degree 3\n",
        "def newtoncotes_open_d3(function, xi, xf):\n",
        "  h = (xf-xi)/5\n",
        "  value = (5*h/24)*((11*function(xi+h)) + function(xi+(2*h)) + function(xi+(3*h)) + (11*function(xi+(4*h))))\n",
        "  return value"
      ],
      "metadata": {
        "id": "l6AzFbubbO1W"
      },
      "execution_count": null,
      "outputs": []
    },
    {
      "cell_type": "code",
      "source": [
        "#newton-cotes open degree 4\n",
        "def newtoncotes_open_d4(function, xi, xf):\n",
        "  h = (xf-xi)/6\n",
        "  value = (3*h/10)*((11*function(xi+h)) - (14*function(xi+(2*h))) + (26*function(xi+(3*h))) - (14*function(xi+(4*h))) + (11*function(xi+(5*h))))\n",
        "  return value"
      ],
      "metadata": {
        "id": "cbun-znqidF3"
      },
      "execution_count": null,
      "outputs": []
    },
    {
      "cell_type": "markdown",
      "source": [
        "### **Execução de Newton Cotes Fechado**"
      ],
      "metadata": {
        "id": "ZmCAMMdUa2rC"
      }
    },
    {
      "cell_type": "code",
      "source": [
        "newtoncotes_close_d1(function1, 0, 1)"
      ],
      "metadata": {
        "colab": {
          "base_uri": "https://localhost:8080/"
        },
        "id": "YppW_D9AXLUR",
        "outputId": "638bd40c-c8c6-491f-a7b7-92a6de5886aa"
      },
      "execution_count": null,
      "outputs": [
        {
          "output_type": "execute_result",
          "data": {
            "text/plain": [
              "31.278492892995676"
            ]
          },
          "metadata": {},
          "execution_count": 13
        }
      ]
    },
    {
      "cell_type": "code",
      "source": [
        "newtoncotes_close_d2(function1, 0, 1)"
      ],
      "metadata": {
        "colab": {
          "base_uri": "https://localhost:8080/"
        },
        "id": "4vWq5JKgYTSS",
        "outputId": "a9cee0c6-9725-4eec-a41a-d67a5d442f73"
      },
      "execution_count": null,
      "outputs": [
        {
          "output_type": "execute_result",
          "data": {
            "text/plain": [
              "17.869783192540595"
            ]
          },
          "metadata": {},
          "execution_count": 15
        }
      ]
    },
    {
      "cell_type": "code",
      "source": [
        "newtoncotes_close_d3(function1, 0, 1)"
      ],
      "metadata": {
        "colab": {
          "base_uri": "https://localhost:8080/"
        },
        "id": "0Hj_t9XkY8ca",
        "outputId": "6bc4a8e5-2c8a-4777-da75-0bc467edcc30"
      },
      "execution_count": null,
      "outputs": [
        {
          "output_type": "execute_result",
          "data": {
            "text/plain": [
              "17.875248842908746"
            ]
          },
          "metadata": {},
          "execution_count": 18
        }
      ]
    },
    {
      "cell_type": "code",
      "source": [
        "newtoncotes_close_d4(function1, 0, 1)"
      ],
      "metadata": {
        "colab": {
          "base_uri": "https://localhost:8080/"
        },
        "id": "RKjVePEXbRHC",
        "outputId": "a04b3f9a-1da6-42a5-9be8-c283497d54f5"
      },
      "execution_count": null,
      "outputs": [
        {
          "output_type": "execute_result",
          "data": {
            "text/plain": [
              "17.87823193637833"
            ]
          },
          "metadata": {},
          "execution_count": 20
        }
      ]
    },
    {
      "cell_type": "markdown",
      "source": [
        "### **Execução de Newton Cotes Aberto**"
      ],
      "metadata": {
        "id": "CgxCiSyVa9S7"
      }
    },
    {
      "cell_type": "code",
      "source": [
        "newtoncotes_open_d1(function1, 0, 1)"
      ],
      "metadata": {
        "colab": {
          "base_uri": "https://localhost:8080/"
        },
        "id": "qHukDyn-VvT5",
        "outputId": "00216646-b0fa-4edd-ca22-c0a7c68e0683"
      },
      "execution_count": null,
      "outputs": [
        {
          "output_type": "execute_result",
          "data": {
            "text/plain": [
              "13.407500826213104"
            ]
          },
          "metadata": {},
          "execution_count": 11
        }
      ]
    },
    {
      "cell_type": "code",
      "source": [
        "newtoncotes_open_d2(function1, 0, 1)"
      ],
      "metadata": {
        "colab": {
          "base_uri": "https://localhost:8080/"
        },
        "id": "kDTK1j1BQ-SQ",
        "outputId": "b2536b4a-1dc7-4d80-cd5e-bf8c517e9e54"
      },
      "execution_count": null,
      "outputs": [
        {
          "output_type": "execute_result",
          "data": {
            "text/plain": [
              "17.88562458723635"
            ]
          },
          "metadata": {},
          "execution_count": 9
        }
      ]
    },
    {
      "cell_type": "code",
      "source": [
        "newtoncotes_open_d3(function1, 0, 1)"
      ],
      "metadata": {
        "colab": {
          "base_uri": "https://localhost:8080/"
        },
        "id": "htiF2h9fb8Dt",
        "outputId": "040c6f8c-81e2-47f1-c72f-d7b402cc010b"
      },
      "execution_count": null,
      "outputs": [
        {
          "output_type": "execute_result",
          "data": {
            "text/plain": [
              "17.881685871802105"
            ]
          },
          "metadata": {},
          "execution_count": 18
        }
      ]
    },
    {
      "cell_type": "code",
      "source": [
        "newtoncotes_open_d4(function1, 0, 1)"
      ],
      "metadata": {
        "colab": {
          "base_uri": "https://localhost:8080/"
        },
        "id": "-ZFW2-N4cCuC",
        "outputId": "cb3dba22-588d-49e1-89a4-d59a94233fa3"
      },
      "execution_count": null,
      "outputs": [
        {
          "output_type": "execute_result",
          "data": {
            "text/plain": [
              "17.87285807219073"
            ]
          },
          "metadata": {},
          "execution_count": 25
        }
      ]
    }
  ]
}